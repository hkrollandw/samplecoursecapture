{
 "cells": [
  {
   "cell_type": "markdown",
   "id": "a1aaea1c-fb84-4c68-9aa5-f5c50a327419",
   "metadata": {},
   "source": [
    "# Data Science Tools and Ecosystem"
   ]
  },
  {
   "cell_type": "markdown",
   "id": "565fe060-d416-4741-8bb7-211f7eef27b1",
   "metadata": {},
   "source": [
    "## In this notebook, Data Science Tools and Ecosystem are summarized."
   ]
  },
  {
   "cell_type": "markdown",
   "id": "0dcac931-eb71-47c7-b73d-0473012a9976",
   "metadata": {
    "tags": []
   },
   "source": [
    "<b>Objective</b>\n",
    "- Popular languages that Data Scientists use\n",
    "- Commonly used libraries used by Data Scientists\n",
    "- Data Science Tools\n",
    "- Python Programming"
   ]
  },
  {
   "cell_type": "markdown",
   "id": "6c4b1e9b-95d2-44c4-9056-842777325c23",
   "metadata": {},
   "source": [
    "## Author\n",
    "Rolland Wong"
   ]
  },
  {
   "cell_type": "markdown",
   "id": "07c042a4-cc8b-4e9e-8ed8-7b4c92a028a1",
   "metadata": {
    "tags": []
   },
   "source": [
    "## Author\n",
    "Rolland Wong"
   ]
  },
  {
   "cell_type": "markdown",
   "id": "2d4bd863-2653-4490-8ebd-ff3ecc177809",
   "metadata": {},
   "source": [
    "<ol>\n",
    "<p>Some of the popular languages that Data Scientists use are:</p>\n",
    "    <li>Python</li>\n",
    "    <li>R Langauge</li>\n",
    "    <li>Java</li>\n",
    "</ol>"
   ]
  },
  {
   "cell_type": "markdown",
   "id": "ecf5876d-7347-4e36-bd0c-1b11e2e22c5d",
   "metadata": {},
   "source": []
  },
  {
   "cell_type": "markdown",
   "id": "eda14dd0-e5b2-4289-bdf2-2ddda711474e",
   "metadata": {},
   "source": [
    "<ol>\n",
    "<p>Some of the commonly used libraries used by Data Scientists include:</p>\n",
    "    <li>TensorFlow</li>\n",
    "    <li>NumPy</li>\n",
    "    <li>SciPy</li>\n",
    "    <li>Pandas</li>\n",
    "    <li>Matplotlib</li>\n",
    "    <li>Keras</li>\n",
    "</ol>"
   ]
  },
  {
   "cell_type": "code",
   "execution_count": null,
   "id": "9b48c557-7190-495a-8095-f4f2c0e4d1e6",
   "metadata": {},
   "outputs": [],
   "source": []
  },
  {
   "cell_type": "markdown",
   "id": "1ad4d8d1-20c9-4a17-8248-6e14978d1750",
   "metadata": {},
   "source": [
    "| Data Science Tools |\n",
    "| ----------------- |\n",
    "| Apache Spark |\n",
    "| TensorFlow |\n",
    "| Apache Hadoop |\n",
    "| R Studio |"
   ]
  },
  {
   "cell_type": "code",
   "execution_count": null,
   "id": "cf01e65a-85c0-4b0f-8802-9e58a628abd2",
   "metadata": {},
   "outputs": [],
   "source": []
  },
  {
   "cell_type": "code",
   "execution_count": null,
   "id": "03ee3b92-07cc-4dfd-8b14-1da7239abf54",
   "metadata": {},
   "outputs": [],
   "source": [
    "### Below are a few examples of evaluating arithmetic expressions in Python"
   ]
  },
  {
   "cell_type": "markdown",
   "id": "d5734161-f240-468c-a9cb-fff2b3f801fc",
   "metadata": {},
   "source": [
    "### Below are a few examples of evaluating arithmetic expressions in Python"
   ]
  },
  {
   "cell_type": "code",
   "execution_count": 6,
   "id": "a2aabcc3-a371-421e-b84c-a87b9c2a3cc7",
   "metadata": {
    "tags": []
   },
   "outputs": [
    {
     "data": {
      "text/plain": [
       "17"
      ]
     },
     "execution_count": 6,
     "metadata": {},
     "output_type": "execute_result"
    }
   ],
   "source": [
    "# This is a simple arithmetic expression to mutiply then add integers\n",
    "(3*4)+5"
   ]
  },
  {
   "cell_type": "code",
   "execution_count": 8,
   "id": "0f6ccbac-32e5-483f-88e0-43d17c7c456a",
   "metadata": {
    "tags": []
   },
   "outputs": [
    {
     "data": {
      "text/plain": [
       "3.3333333333333335"
      ]
     },
     "execution_count": 8,
     "metadata": {},
     "output_type": "execute_result"
    }
   ],
   "source": [
    "# This will convert 200 minutes to hours by diving by 60\n",
    "(200/60)"
   ]
  },
  {
   "cell_type": "code",
   "execution_count": null,
   "id": "955df1bd-8c2a-4d34-b8d9-b4fa3372c8f4",
   "metadata": {},
   "outputs": [],
   "source": []
  }
 ],
 "metadata": {
  "kernelspec": {
   "display_name": "Python",
   "language": "python",
   "name": "conda-env-python-py"
  },
  "language_info": {
   "codemirror_mode": {
    "name": "ipython",
    "version": 3
   },
   "file_extension": ".py",
   "mimetype": "text/x-python",
   "name": "python",
   "nbconvert_exporter": "python",
   "pygments_lexer": "ipython3",
   "version": "3.7.12"
  }
 },
 "nbformat": 4,
 "nbformat_minor": 5
}
